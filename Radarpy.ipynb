{
 "cells": [
  {
   "cell_type": "markdown",
   "metadata": {},
   "source": [
    "## Reading and plotting the content of a GPR .dzt file:\n",
    "#### We need to import all the modules\n",
    "- readgssi will make available the reading function\n",
    "- matplotlib will provide many plotting tools\n",
    "- numpy will perform all the numerical work"
   ]
  },
  {
   "cell_type": "code",
   "execution_count": null,
   "metadata": {},
   "outputs": [],
   "source": [
    "from readgssi.readgssi import readgssi as readDZT\n",
    "import matplotlib.pyplot as plt\n",
    "import numpy as np"
   ]
  },
  {
   "cell_type": "markdown",
   "metadata": {},
   "source": [
    "**Now let's read the GPR section we have and separate what is the actual data and what is the header info. Also, we need to assign the values we are going to use for the x and y axis.**"
   ]
  },
  {
   "cell_type": "code",
   "execution_count": null,
   "metadata": {},
   "outputs": [],
   "source": [
    "file_path = \"Sample data/FILE____125.DZT\"\n",
    "d = readDZT(file_path, x = 'm')\n",
    "data = d[1][0]\n",
    "header = d[0]\n",
    "xmax = data.shape[1]/ header['rhf_spm']\n",
    "zmax = header['ns_per_zsample'] * data.shape[0] * 10**9\n",
    "extent = [0, xmax, zmax, 0]"
   ]
  },
  {
   "cell_type": "markdown",
   "metadata": {},
   "source": [
    "**To plot the radargram, we use an image. Let's also set the plot labels and title.**"
   ]
  },
  {
   "cell_type": "code",
   "execution_count": null,
   "metadata": {},
   "outputs": [],
   "source": [
    "fig = plt.figure()\n",
    "ax = fig.add_subplot(111)\n",
    "im = ax.imshow(data, cmap = \"Greys\", interpolation=\"bicubic\", extent = extent, aspect='auto')\n",
    "ax.set_xlabel(\"Distance (m)\")\n",
    "ax.set_ylabel(\"Two-way travel time (ns)\")\n",
    "ax.set_title(file_path)\n",
    "plt.show()"
   ]
  }
 ],
 "metadata": {
  "kernelspec": {
   "display_name": "Python 3",
   "language": "python",
   "name": "python3"
  },
  "language_info": {
   "codemirror_mode": {
    "name": "ipython",
    "version": 3
   },
   "file_extension": ".py",
   "mimetype": "text/x-python",
   "name": "python",
   "nbconvert_exporter": "python",
   "pygments_lexer": "ipython3",
   "version": "3.7.3"
  }
 },
 "nbformat": 4,
 "nbformat_minor": 2
}
